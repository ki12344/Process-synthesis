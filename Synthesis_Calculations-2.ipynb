{
  "cells": [
    {
      "cell_type": "code",
      "execution_count": null,
      "metadata": {
        "id": "22QGTH4uu1NY"
      },
      "outputs": [],
      "source": [
        "# CHE 597: Process Synthesis\n",
        "# Course Code to try out various calculations"
      ]
    },
    {
      "cell_type": "code",
      "execution_count": 69,
      "metadata": {
        "id": "nBexPwX8u1Na"
      },
      "outputs": [],
      "source": [
        "# Enthalpies of Formations kJ/mol\n",
        "# Information from the NIST JANAF Thermochemical Tables\n",
        "# janaf.nist.gov\n",
        "# Other components from Engineering Toolbox\n",
        "\n",
        "H_f0_CH4_g = -74.873\n",
        "H_f0_Biomass=-4392\n",
        "H_f0_CH3OH_l = -239.2\n",
        "H_f0_CO2_g = -393.522\n",
        "H_f0_H2O_l = -285.830\n",
        "H_f0_NH3_g = -45.898\n",
        "H_f0_C2H6O_g = -184.1\n",
        "\n"
      ]
    },
    {
      "cell_type": "code",
      "execution_count": 71,
      "metadata": {
        "id": "cVyc31AZu1Nb"
      },
      "outputs": [],
      "source": [
        "# Gibbs Energies of Formations at standard temperature and pressure\n",
        "G_f0_CH4_g = -50.768\n",
        "G_f0_biomass=-1874\n",
        "G_f0_CH3OH_l = -166.6\n",
        "G_f0_CO2_g = -394.389\n",
        "G_f0_H2O_l = -237.141\n",
        "G_f0_NH3_g = -16.367\n",
        "G_f0_C2H6O_g = -112.6\n"
      ]
    },
    {
      "cell_type": "code",
      "execution_count": null,
      "metadata": {
        "id": "HpK4Kvmmu1Nc",
        "outputId": "d816b740-b7b0-4d2d-a281-0ecf7d399d2e"
      },
      "outputs": [
        {
          "name": "stdout",
          "output_type": "stream",
          "text": [
            "-164.327\n"
          ]
        }
      ],
      "source": [
        "# Consider a methanol production process\n",
        "# CH4_g + 1/2 O2 ==> CH3OH_l\n",
        "\n",
        "# Overall Energy Balance\n",
        "# \\delta H =\n",
        "#H_CH4_CH3OH = H_f0_CH3OH_l - H_f0_CH4_g\n",
        "#print(H_CH4_CH3OH)\n"
      ]
    },
    {
      "cell_type": "code",
      "execution_count": null,
      "metadata": {
        "id": "UeTWO9q9u1Nc",
        "outputId": "67f9c42f-f4e6-43e0-941e-7204af391816"
      },
      "outputs": [
        {
          "name": "stdout",
          "output_type": "stream",
          "text": [
            "121.50299999999999\n"
          ]
        }
      ],
      "source": [
        "# For a methanol process with steam reforming\n",
        "# CH4_g + H2O_l ==> CH3OH_l + H2_g\n",
        "\n",
        "# Overall Energy Balance\n",
        "\n",
        "#H_CH4_H2O_CH3OH = H_f0_CH3OH_l - H_f0_CH4_g - H_f0_H2O_l\n",
        "#print(H_CH4_H2O_CH3OH)"
      ]
    },
    {
      "cell_type": "code",
      "execution_count": null,
      "metadata": {
        "id": "x7xL6IUau1Nd",
        "outputId": "d5011f77-323c-4dd5-be99-1f2c9c70a59f"
      },
      "outputs": [
        {
          "name": "stdout",
          "output_type": "stream",
          "text": [
            "157.97599999999997\n"
          ]
        }
      ],
      "source": [
        "# Ethanol Production\n",
        "\n",
        "# 2CH4_g + H2O_l ==> C2H5OH_l + 5H2_g\n",
        "\n",
        "# Overall Energy Balance\n",
        "\n",
        "#H_CH4_H2O_C2H5OH = H_f0_C2H5OH_l - 2*H_f0_CH4_g - H_f0_H2O_l\n",
        "#print(H_CH4_H2O_C2H5OH)"
      ]
    },
    {
      "cell_type": "code",
      "execution_count": null,
      "metadata": {
        "id": "AbqyMbgwu1Ne",
        "outputId": "d5a02b87-bae4-4ac7-9f5a-9db6959a2844"
      },
      "outputs": [
        {
          "name": "stdout",
          "output_type": "stream",
          "text": [
            "348.04600000000005\n"
          ]
        }
      ],
      "source": [
        "# The Inverted Ethanol Process to Hydrogen\n",
        "\n",
        "# C2H5OH_l + 3H2O ==> 2CO2_g + H2_g\n",
        "\n",
        "#H_C2H5OH_H2O_CO2_H2 = 2*H_f0_CO2_g - H_f0_C2H5OH_l - 3*H_f0_H2O_l\n",
        "#print(H_C2H5OH_H2O_CO2_H2)"
      ]
    },
    {
      "cell_type": "code",
      "execution_count": null,
      "metadata": {
        "id": "h8xtgs02u1Ne"
      },
      "outputs": [],
      "source": [
        "# Constrained Optimization\n",
        "\n",
        "# Some example\n"
      ]
    },
    {
      "cell_type": "code",
      "execution_count": 72,
      "metadata": {
        "colab": {
          "base_uri": "https://localhost:8080/"
        },
        "id": "RNP98p8-u1Ne",
        "outputId": "4e796ff0-4881-4173-a4d7-d1e198ee3218"
      },
      "outputs": [
        {
          "output_type": "stream",
          "name": "stdout",
          "text": [
            "-902.1646\n"
          ]
        }
      ],
      "source": [
        "import numpy as np\n",
        "from scipy.optimize import minimize\n",
        "\n",
        "# Defining our objective function as minimizing CO2\n",
        "def objective(X):\n",
        "    a, b, c, d, e, f = X\n",
        "    return a*H_f0_CH4_g +b*H_f0_Biomass+c*H_f0_CH3OH_l+ d*H_f0_CO2_g + e*H_f0_H2O_l +f* H_f0_NH3_g-H_f0_C2H6O_g\n",
        "\n",
        "# using the other equations as equality constraints\n",
        "def eq1(X):\n",
        "    a, b, c, d, e, f = X\n",
        "    return 2 - a - (5*b) - c - d\n",
        "\n",
        "def eq2(X):\n",
        "    a, b, c, d, e, f = X\n",
        "    return 6 - (4*a) - (37*b) - (4*c) - (2*e) - (3*f)\n",
        "\n",
        "def eq3(X):\n",
        "    a, b, c, d, e, f = X\n",
        "    return -b - f\n",
        "\n",
        "def eq4(X):\n",
        "    a, b, c, d, e, f = X\n",
        "    return 1 - (17*b) - (c) - (2*d) - (e)\n",
        "\n",
        "\n",
        "# Now defining the inequality constraints\n",
        "#def ineq1(X):\n",
        "#    a, b, c, d, e, f = X\n",
        "#    return b*H_f0_CH4_g + c*H_f0_H2O_l + e*H_f0_CO2_g - H_f0_CH3OH_l\n",
        "\n",
        "def ineq2(X):\n",
        "    a, b, c, d, e, f = X\n",
        "    return a*G_f0_CH4_g + b*G_f0_biomass+ c*G_f0_CH3OH_l+ d*G_f0_CO2_g+ e*G_f0_H2O_l+ f*G_f0_NH3_g- G_f0_C2H6O_g\n",
        "\n",
        "# Set the other inequalities as bounds\n",
        "bounds_a = (0, 4)\n",
        "bounds_b = (0, 4)\n",
        "bounds_c = (-4, 0)\n",
        "bounds_e = (-4, 4)\n",
        "bounds_d = (-0.001, 0.001)\n",
        "bounds_f = (-4, 0)\n",
        "\n",
        "bnds = (bounds_a, bounds_b, bounds_c, bounds_d, bounds_e, bounds_f)\n",
        "\n",
        "# initial guesses to help the program find the solution\n",
        "X0 = [0.2, 0.2, 0.2, 0.2, 0.2, 0.2]\n",
        "\n",
        "# Just to test\n",
        "print(objective(X0))"
      ]
    },
    {
      "cell_type": "code",
      "execution_count": 73,
      "metadata": {
        "colab": {
          "base_uri": "https://localhost:8080/"
        },
        "id": "MJp0cLbMu1Nf",
        "outputId": "38198656-e659-42e0-ebf0-5b46e0012861"
      },
      "outputs": [
        {
          "output_type": "stream",
          "name": "stdout",
          "text": [
            " message: Optimization terminated successfully\n",
            " success: True\n",
            "  status: 0\n",
            "     fun: -149.2210458588568\n",
            "       x: [ 2.147e+00  4.289e-01 -2.293e+00  1.000e-03 -4.000e+00\n",
            "           -4.289e-01]\n",
            "     nit: 2\n",
            "     jac: [-7.487e+01 -4.392e+03 -2.392e+02 -3.935e+02 -2.858e+02\n",
            "           -4.590e+01]\n",
            "    nfev: 14\n",
            "    njev: 2\n"
          ]
        }
      ],
      "source": [
        "# Creating the constraint list\n",
        "constr1 = {'type': 'eq', 'fun': eq1}\n",
        "constr2 = {'type': 'eq', 'fun': eq2}\n",
        "constr3 = {'type': 'eq', 'fun': eq3}\n",
        "constr4 = {'type': 'eq', 'fun': eq4}\n",
        "constr5 = {'type': 'ineq', 'fun': ineq2}\n",
        "\n",
        "constr = [constr1, constr2, constr3, constr4, constr5 ]\n",
        "\n",
        "sol = minimize(objective, X0, bounds=bnds, constraints=constr)\n",
        "print(sol)"
      ]
    },
    {
      "cell_type": "code",
      "execution_count": 74,
      "metadata": {
        "colab": {
          "base_uri": "https://localhost:8080/"
        },
        "id": "xsA6Xj7Hu1Nf",
        "outputId": "b28a941c-7118-47ec-efb8-cd5c9d6474c5"
      },
      "outputs": [
        {
          "output_type": "stream",
          "name": "stdout",
          "text": [
            "537.0394289994675\n"
          ]
        }
      ],
      "source": [
        "x_s = sol.x\n",
        "print(ineq2(x_s))\n",
        "\n",
        "\n"
      ]
    },
    {
      "cell_type": "code",
      "execution_count": 75,
      "metadata": {
        "colab": {
          "base_uri": "https://localhost:8080/"
        },
        "id": "XGJJfOx-u1Ng",
        "outputId": "b40708b7-1ebb-48b7-c714-645d808456b6"
      },
      "outputs": [
        {
          "output_type": "stream",
          "name": "stdout",
          "text": [
            "-1.5\n"
          ]
        }
      ],
      "source": [
        "\n",
        "   import numpy as np\n",
        "from scipy.optimize import minimize\n",
        "\n",
        "# Defining our objective function as maximizing yield\n",
        "def objective(X):\n",
        "    a, b, c, d, e, f = X\n",
        "    g=(2-c)/(a+(5*b))\n",
        "    return -g\n",
        "\n",
        "# using the other equations as equality constraints\n",
        "def eq1(X):\n",
        "    a, b, c, d, e, f = X\n",
        "    return 2 - a - (5*b) - c - d\n",
        "\n",
        "def eq2(X):\n",
        "    a, b, c, d, e, f = X\n",
        "    return 6 - (4*a) - (37*b) - (4*c) - (2*e) - (3*f)\n",
        "\n",
        "def eq3(X):\n",
        "    a, b, c, d, e, f = X\n",
        "    return -b - f\n",
        "\n",
        "def eq4(X):\n",
        "    a, b, c, d, e, f = X\n",
        "    return 1 - (17*b) - (c) - (2*d) - (e)\n",
        "\n",
        "\n",
        "# Now defining the inequality constraints\n",
        "#def ineq1(X):\n",
        "#    a, b, c, d, e, f = X\n",
        "#    return b*H_f0_CH4_g + c*H_f0_H2O_l + e*H_f0_CO2_g - H_f0_CH3OH_l\n",
        "\n",
        "def ineq2(X):\n",
        "    a, b, c, d, e, f = X\n",
        "    return a*G_f0_CH4_g + b*G_f0_biomass+ c*G_f0_CH3OH_l+ d*G_f0_CO2_g+ e*G_f0_H2O_l+ f*G_f0_NH3_g- G_f0_C2H6O_g\n",
        "\n",
        "#def ineq3(X):\n",
        " #   a, b, c, d, e, f = X\n",
        "  #  return a*H_f0_CH4_g +b*H_f0_Biomass+c*H_f0_CH3OH_l+ d*H_f0_CO2_g + e*H_f0_H2O_l +f* H_f0_NH3_g-H_f0_C2H6O_g\n",
        "\n",
        "# Set the other inequalities as bounds\n",
        "bounds_a = (0, 4)\n",
        "bounds_b = (0, 4)\n",
        "bounds_c = (-4, 0)\n",
        "bounds_e = (-4, 4)\n",
        "bounds_d = (-4, 4)\n",
        "bounds_f = (-4, 0)\n",
        "\n",
        "\n",
        "bnds = (bounds_a, bounds_b, bounds_c, bounds_d, bounds_e, bounds_f)\n",
        "\n",
        "# initial guesses to help the program find the solution\n",
        "X0 = [0.2, 0.2, 0.2, 0.2, 0.2, 0.2]\n",
        "\n",
        "# Just to test\n",
        "print(objective(X0))\n"
      ]
    },
    {
      "cell_type": "code",
      "execution_count": 76,
      "metadata": {
        "colab": {
          "base_uri": "https://localhost:8080/"
        },
        "id": "IDUA8JrEu1Ng",
        "outputId": "2e6722ee-28e1-4a20-f3a9-31af6ed0b177"
      },
      "outputs": [
        {
          "output_type": "stream",
          "name": "stdout",
          "text": [
            " message: Optimization terminated successfully\n",
            " success: True\n",
            "  status: 0\n",
            "     fun: -1.1825375528365443\n",
            "       x: [ 1.309e+00  7.651e-02 -1.579e-17  3.087e-01 -9.181e-01\n",
            "           -7.651e-02]\n",
            "     nit: 2\n",
            "     jac: [ 6.992e-01  3.496e+00  5.913e-01  0.000e+00  0.000e+00\n",
            "            0.000e+00]\n",
            "    nfev: 15\n",
            "    njev: 2\n"
          ]
        }
      ],
      "source": [
        "# Creating the constraint list\n",
        "constr1 = {'type': 'eq', 'fun': eq1}\n",
        "constr2 = {'type': 'eq', 'fun': eq2}\n",
        "constr3 = {'type': 'eq', 'fun': eq3}\n",
        "constr4 = {'type': 'eq', 'fun': eq4}\n",
        "constr5 = {'type': 'ineq', 'fun': ineq2}\n",
        "#constr6 = {'type': 'ineq', 'fun': ineq3}\n",
        "\n",
        "constr = [constr1, constr2, constr3, constr4, constr5  ]\n",
        "\n",
        "sol = minimize(objective, X0, bounds=bnds, constraints=constr)\n",
        "print(sol)"
      ]
    },
    {
      "cell_type": "code",
      "execution_count": 77,
      "metadata": {
        "colab": {
          "base_uri": "https://localhost:8080/"
        },
        "id": "arqt7dqOu1Nh",
        "outputId": "eb2efbfe-85aa-4c45-e280-4eacd0fea161"
      },
      "outputs": [
        {
          "output_type": "stream",
          "name": "stdout",
          "text": [
            "2.842170943040401e-14\n"
          ]
        }
      ],
      "source": [
        "x_s = sol.x\n",
        "print(ineq2(x_s))"
      ]
    },
    {
      "cell_type": "code",
      "execution_count": null,
      "metadata": {
        "id": "G1qVm7Tfu1Nh"
      },
      "outputs": [],
      "source": []
    },
    {
      "cell_type": "code",
      "execution_count": null,
      "metadata": {
        "id": "T2xxKPoLu1Nh"
      },
      "outputs": [],
      "source": []
    }
  ],
  "metadata": {
    "kernelspec": {
      "display_name": "Python 3",
      "language": "python",
      "name": "python3"
    },
    "language_info": {
      "codemirror_mode": {
        "name": "ipython",
        "version": 3
      },
      "file_extension": ".py",
      "mimetype": "text/x-python",
      "name": "python",
      "nbconvert_exporter": "python",
      "pygments_lexer": "ipython3",
      "version": "3.7.2"
    },
    "colab": {
      "provenance": []
    }
  },
  "nbformat": 4,
  "nbformat_minor": 0
}